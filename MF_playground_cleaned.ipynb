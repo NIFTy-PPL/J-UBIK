{
 "cells": [
  {
   "cell_type": "code",
   "execution_count": null,
   "id": "af8b969b-e5ac-4231-b590-b695cda8a8df",
   "metadata": {},
   "outputs": [],
   "source": [
    "from functools import reduce, partial\n",
    "\n",
    "import numpy as np\n",
    "import jax\n",
    "from jax import random\n",
    "import jax.numpy as jnp\n",
    "import matplotlib.pyplot as plt\n",
    "\n",
    "import nifty8 as ift\n",
    "import nifty8.re as jft\n",
    "from nifty8.re.tree_math import ShapeWithDtype\n",
    "\n",
    "import jubik0 as ju\n",
    "\n",
    "seed = 42\n",
    "key = random.PRNGKey(seed)"
   ]
  },
  {
   "cell_type": "markdown",
   "id": "183a5ab1-cba9-4fe9-836d-d73ca15d5338",
   "metadata": {},
   "source": [
    "# LEGACY Definitions"
   ]
  },
  {
   "cell_type": "code",
   "execution_count": null,
   "id": "dcf5ed5d-a38f-4d19-ab85-d0bd2ede39fc",
   "metadata": {},
   "outputs": [],
   "source": [
    "class NCopiesCorrField():\n",
    "    def __init__(self, cf, N_copies, prefix):\n",
    "        \"\"\"\n",
    "        Parameters:\n",
    "        ----------\n",
    "        N_copies: Tuple of int,\n",
    "                Shape of the new field, implicitely defining the Number of copies. \n",
    "                Each of the correlated fields has the same power spectrum,\n",
    "                but different excitations.\n",
    "        cf: Correlated Field Model,\n",
    "            from nifty.re\n",
    "\n",
    "        returns:\n",
    "        -------\n",
    "        Model for multiple CorrelatedFields with the same pspec \n",
    "        but different xi_s.     \n",
    "        \"\"\"\n",
    "        self.cf = cf\n",
    "        self.N_copies = N_copies\n",
    "        self.number = reduce(lambda x, y: x * y, self.N_copies)\n",
    "        self.xi_key = prefix+ \"xi\"\n",
    "        self.n_xis = cf.domain[self.xi_key].size\n",
    "        self.target_flatten = ShapeWithDtype(shape=(self.n_xis, self.number))\n",
    "        self.target = ShapeWithDtype(shape=((self.n_xis,) + self.N_copies))\n",
    "        self.new_domain = self._extend_xi_domain()\n",
    "        \n",
    "    def _partly_apply_cf(self, pos_init):\n",
    "        def partly(xi, xi_key):\n",
    "            pos_init.tree.pop(xi_key)\n",
    "            pos_init.tree.update({xi_key: xi})\n",
    "            return self.cf(pos_init)\n",
    "        return partly\n",
    "        \n",
    "    def _extend_xi_domain(self):\n",
    "        dict = self.cf.domain.copy()\n",
    "        dict.update({self.xi_key: self.target_flatten})\n",
    "        return dict\n",
    "\n",
    "    def partial_init_ncopies_model(self, pos_new):\n",
    "        func = self._partly_apply_cf(pos_new)\n",
    "        ncopies_model_func = jax.vmap(func, in_axes=(1, None), out_axes=1)\n",
    "        res = ncopies_model_func(pos_new.tree[self.xi_key], self.xi_key)\n",
    "        return res.reshape(self.cf.target.shape + self.N_copies)\n",
    "\n",
    "    def build_model(self):       \n",
    "        return jft.Model(self.partial_init_ncopies_model,\n",
    "                         domain=self.new_domain,\n",
    "                         target=self.target)"
   ]
  },
  {
   "cell_type": "markdown",
   "id": "87c18e30-e994-4fea-80e8-fb11e520bb9e",
   "metadata": {},
   "source": [
    "# Fields"
   ]
  },
  {
   "cell_type": "code",
   "execution_count": null,
   "id": "0993cad1-45e8-4a3d-928f-09811e603906",
   "metadata": {},
   "outputs": [],
   "source": [
    "e_dims = (12)\n",
    "s_dims = (512,512)\n",
    "\n",
    "RG_Energies = True\n",
    "if RG_Energies:\n",
    "    freqs = jnp.arange(0,12)\n",
    "else:\n",
    "    freqs = jnp.array([1,3,4,7,12,17,19.3])"
   ]
  },
  {
   "cell_type": "markdown",
   "id": "dda5ea19-769f-487d-9e0c-207722f916aa",
   "metadata": {},
   "source": [
    "## Spatial field"
   ]
  },
  {
   "cell_type": "code",
   "execution_count": null,
   "id": "53962d84-da72-4fbd-aec0-e57a72a1d442",
   "metadata": {},
   "outputs": [],
   "source": [
    "cf_zm = {\"offset_mean\": 0., \"offset_std\": (1e-3, 1e-4)}\n",
    "cf_fl = {\n",
    "    \"fluctuations\": (1.0, 5e-3),\n",
    "    \"loglogavgslope\": (-3., 1e-2),\n",
    "    \"flexibility\": (1e+0, 5e-1),\n",
    "    \"asperity\": None,\n",
    "    \"harmonic_type\": \"Fourier\"\n",
    "}\n",
    "cfm = jft.CorrelatedFieldMaker(\"space_cf\")\n",
    "cfm.set_amplitude_total_offset(**cf_zm)\n",
    "cfm.add_fluctuations(\n",
    "    s_dims,\n",
    "    distances=1. / s_dims[0],\n",
    "    **cf_fl,\n",
    "    prefix=\"ax1\",\n",
    "    non_parametric_kind=\"power\"\n",
    ")\n",
    "correlated_field = cfm.finalize()"
   ]
  },
  {
   "cell_type": "markdown",
   "id": "5b3c2919-0eb8-4a30-8c2d-4d3a82c53155",
   "metadata": {},
   "source": [
    "## Deviations from Powerlaw"
   ]
  },
  {
   "cell_type": "code",
   "execution_count": null,
   "id": "a7d84dcc-2eff-49c8-8909-a565a39dbab4",
   "metadata": {},
   "outputs": [],
   "source": [
    "dev_zm = {\"offset_mean\": 0., \"offset_std\": (1e-3, 1e-4)}\n",
    "dev_fl = {\n",
    "    \"fluctuations\": (1e-1, 5e-3),\n",
    "    \"loglogavgslope\": (-1., 1e-2),\n",
    "    \"flexibility\": (1e-3, 5e-1),\n",
    "    \"asperity\": None,\n",
    "    \"harmonic_type\": \"Fourier\"}\n",
    "dev_cfm = jft.CorrelatedFieldMaker(\"dev_cf\")\n",
    "dev_cfm.set_amplitude_total_offset(**dev_zm)\n",
    "dev_cfm.add_fluctuations(\n",
    "    e_dims,\n",
    "    distances=1. / e_dims,\n",
    "    **dev_fl,\n",
    "    prefix=\"ax1\",\n",
    "    non_parametric_kind=\"power\"\n",
    ")\n",
    "dev_correlated_field = dev_cfm.finalize()"
   ]
  },
  {
   "cell_type": "markdown",
   "id": "f543be57-d33d-4372-b6ed-4c8df2196ca8",
   "metadata": {},
   "source": [
    "## Spectral Index $\\alpha$"
   ]
  },
  {
   "cell_type": "code",
   "execution_count": null,
   "id": "f52c0109-792c-47ac-b8c7-187537277479",
   "metadata": {},
   "outputs": [],
   "source": [
    "alpha_zm = {\"offset_mean\": -2.0, \"offset_std\": (1e-3, 1e-4)}\n",
    "alpha_fl = {\n",
    "    \"fluctuations\": (1e-1, 5e-3),\n",
    "    \"loglogavgslope\": (-1., 1e-2),\n",
    "    \"flexibility\": (1e+0, 5e-1),\n",
    "    \"asperity\": (5e-1, 5e-2),\n",
    "    \"harmonic_type\": \"Fourier\"\n",
    "}\n",
    "alpha = jft.CorrelatedFieldMaker(\"alpha\")\n",
    "alpha.set_amplitude_total_offset(**alpha_zm)\n",
    "alpha.add_fluctuations(\n",
    "    s_dims,\n",
    "    distances=1. / s_dims[0],\n",
    "    **alpha_fl,\n",
    "    prefix=\"ax1\",\n",
    "    non_parametric_kind=\"power\"\n",
    ")\n",
    "alpha_field = alpha.finalize()"
   ]
  },
  {
   "cell_type": "markdown",
   "id": "cca5c161-d904-438d-b592-3440def91862",
   "metadata": {},
   "source": [
    "# Build Power Law"
   ]
  },
  {
   "cell_type": "code",
   "execution_count": null,
   "id": "2f5e4731-4e35-4ea5-9c36-deb4edfcd935",
   "metadata": {},
   "outputs": [],
   "source": [
    "plaw = ju.build_power_law(freqs, alpha_field)"
   ]
  },
  {
   "cell_type": "code",
   "execution_count": null,
   "id": "96faa312-e961-4cdc-a374-3dbadfe0b9ff",
   "metadata": {},
   "outputs": [],
   "source": [
    "dev = jft.WienerProcess((0, 1), (1, 3), 2, name=\"marcent\", N_steps=e_dims-1)"
   ]
  },
  {
   "cell_type": "code",
   "execution_count": null,
   "id": "4f788f40-c701-4c32-a28c-725d56fd7a5f",
   "metadata": {},
   "outputs": [],
   "source": [
    "haargret = ju.MappedModel(dev, \"marcent\", s_dims, False)"
   ]
  },
  {
   "cell_type": "markdown",
   "id": "ea8b8d3e-c69b-4e4a-8f23-be26c749a29a",
   "metadata": {},
   "source": [
    "# New Model"
   ]
  },
  {
   "cell_type": "code",
   "execution_count": null,
   "id": "04e9b68a-4013-4d5c-a204-945cd8d7d63a",
   "metadata": {},
   "outputs": [],
   "source": [
    "gen_mod = ju.GeneralModel({'spatial': correlated_field, 'freq_plaw': plaw, 'freq_dev':haargret}).build_model()"
   ]
  },
  {
   "cell_type": "code",
   "execution_count": null,
   "id": "3983a79b-75ba-4808-8d04-a253980951a7",
   "metadata": {
    "scrolled": true
   },
   "outputs": [],
   "source": [
    "key, subkey = random.split(key)\n",
    "pos_init = jft.Vector(jft.random_like(subkey, gen_mod.domain))\n",
    "result = gen_mod(pos_init)"
   ]
  },
  {
   "cell_type": "code",
   "execution_count": null,
   "id": "e122ed25-49e1-45be-8561-1135ee2cc706",
   "metadata": {},
   "outputs": [],
   "source": [
    "result.shape"
   ]
  },
  {
   "cell_type": "code",
   "execution_count": null,
   "id": "e8faaf2e-cf9e-4bdd-bff5-b0650998acde",
   "metadata": {},
   "outputs": [],
   "source": [
    "plt.imshow(result[1,:,:])\n",
    "plt.show()\n",
    "plt.close()\n",
    "for i in range(20):\n",
    "    plt.plot(freqs,result[:,i,10])\n",
    "plt.show()\n",
    "plt.close()"
   ]
  },
  {
   "cell_type": "code",
   "execution_count": null,
   "id": "2c38f0f9-4ceb-4bca-b167-15b4012a55e9",
   "metadata": {},
   "outputs": [],
   "source": []
  }
 ],
 "metadata": {
  "kernelspec": {
   "display_name": "Python 3 (ipykernel)",
   "language": "python",
   "name": "python3"
  },
  "language_info": {
   "codemirror_mode": {
    "name": "ipython",
    "version": 3
   },
   "file_extension": ".py",
   "mimetype": "text/x-python",
   "name": "python",
   "nbconvert_exporter": "python",
   "pygments_lexer": "ipython3",
   "version": "3.10.12"
  }
 },
 "nbformat": 4,
 "nbformat_minor": 5
}
