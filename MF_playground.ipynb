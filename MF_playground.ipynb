{
 "cells": [
  {
   "cell_type": "code",
   "execution_count": null,
   "id": "af8b969b-e5ac-4231-b590-b695cda8a8df",
   "metadata": {},
   "outputs": [],
   "source": [
    "from functools import reduce, partial\n",
    "\n",
    "import numpy as np\n",
    "import jax\n",
    "from jax import random\n",
    "import jax.numpy as jnp\n",
    "import matplotlib.pyplot as plt\n",
    "\n",
    "import nifty8 as ift\n",
    "import nifty8.re as jft\n",
    "from nifty8.re.tree_math import ShapeWithDtype\n",
    "\n",
    "import jubik0 as ju\n",
    "\n",
    "seed = 42\n",
    "key = random.PRNGKey(seed)"
   ]
  },
  {
   "cell_type": "markdown",
   "id": "3bb1d347-d3f7-4575-99c6-89113cfddb71",
   "metadata": {},
   "source": [
    "# A General Multifrequency Model\n",
    "\n",
    "$I(x, \\nu) = \\exp(\\alpha \\cdot \\log (\\nu/\\nu_0) ) \\times I_{0}(x)$\n",
    "\n",
    "where $ I_{0}(x) = I_{\\text{spatial}}(x) $\n",
    "\n",
    "What we basically implement is:\n",
    "\n",
    "$\\log I(x, \\nu) = \\alpha \\cdot \\log\\nu + \\log I_{spatial}(x)$\n",
    "\n",
    "Here\n",
    "$\\alpha = \\alpha(x)$\n",
    "\n",
    "and also you can add a term for deviations from the powerlaw, $\\delta$:\n",
    "\n",
    "$\\log I(x, \\nu) = \\alpha \\times \\log\\nu  + \\log I_{spatial}(x) + \\delta (x, \\nu)$\n",
    "\n",
    "This $\\delta$ has the same correlation structure along $\\nu$ but can have different $\\xi$'s for every $x$\n"
   ]
  },
  {
   "cell_type": "markdown",
   "id": "87c18e30-e994-4fea-80e8-fb11e520bb9e",
   "metadata": {},
   "source": [
    "# Fields"
   ]
  },
  {
   "cell_type": "code",
   "execution_count": null,
   "id": "0993cad1-45e8-4a3d-928f-09811e603906",
   "metadata": {},
   "outputs": [],
   "source": [
    "e_dims = (12)\n",
    "s_dims = (512,512)\n",
    "\n",
    "RG_Energies = False\n",
    "if RG_Energies:\n",
    "    freqs = jnp.arange(0, 12)\n",
    "else:\n",
    "    freqs = jnp.array([1, 3, 4, 7, 12, 17, 19.3, 22, 25, 25.1, 25.3, 26]) # Should be log nu\n",
    "    dfreqs = freqs[1:]-freqs[:-1]"
   ]
  },
  {
   "cell_type": "markdown",
   "id": "dda5ea19-769f-487d-9e0c-207722f916aa",
   "metadata": {},
   "source": [
    "## Spatial field $I_0$"
   ]
  },
  {
   "cell_type": "code",
   "execution_count": null,
   "id": "53962d84-da72-4fbd-aec0-e57a72a1d442",
   "metadata": {},
   "outputs": [],
   "source": [
    "cf_zm = {\"offset_mean\": 0., \"offset_std\": (1e-3, 1e-4)}\n",
    "cf_fl = {\n",
    "    \"fluctuations\": (1.0, 5e-3),\n",
    "    \"loglogavgslope\": (-3., 1e-2),\n",
    "    \"flexibility\": (1e+0, 5e-1),\n",
    "    \"asperity\": None,\n",
    "    # \"harmonic_type\": \"Fourier\"\n",
    "}\n",
    "cfm = jft.CorrelatedFieldMaker(\"space_cf\")\n",
    "cfm.set_amplitude_total_offset(**cf_zm)\n",
    "cfm.add_fluctuations(\n",
    "    s_dims,\n",
    "    distances=1. / s_dims[0],\n",
    "    **cf_fl,\n",
    "    prefix=\"ax1\",\n",
    "    non_parametric_kind=\"power\"\n",
    ")\n",
    "correlated_field = cfm.finalize()"
   ]
  },
  {
   "cell_type": "markdown",
   "id": "f6a0dcd1-0b2e-452c-8366-38cabffd1126",
   "metadata": {},
   "source": [
    "## Spectral Index $\\alpha$"
   ]
  },
  {
   "cell_type": "code",
   "execution_count": null,
   "id": "3d014bb0-5d79-4023-9893-a5c72db3f806",
   "metadata": {},
   "outputs": [],
   "source": [
    "alpha_zm = {\"offset_mean\": -2.0, \"offset_std\": (1e-3, 1e-4)}\n",
    "alpha_fl = {\n",
    "    \"fluctuations\": (1, 5e-3),\n",
    "    \"loglogavgslope\": (-4., 1e-2),\n",
    "    \"flexibility\": (1e-1, 5e-2),\n",
    "    \"asperity\": None,\n",
    "    #\"harmonic_type\": \"Fourier\"\n",
    "}\n",
    "alpha = jft.CorrelatedFieldMaker(\"alpha\")\n",
    "alpha.set_amplitude_total_offset(**alpha_zm)\n",
    "alpha.add_fluctuations(\n",
    "    s_dims,\n",
    "    distances=1. / s_dims[0],\n",
    "    **alpha_fl,\n",
    "    prefix=\"ax1\",\n",
    "    non_parametric_kind=\"power\"\n",
    ")\n",
    "alpha_field = alpha.finalize()"
   ]
  },
  {
   "cell_type": "markdown",
   "id": "cca5c161-d904-438d-b592-3440def91862",
   "metadata": {},
   "source": [
    "# Build Power Law"
   ]
  },
  {
   "cell_type": "code",
   "execution_count": null,
   "id": "2f5e4731-4e35-4ea5-9c36-deb4edfcd935",
   "metadata": {},
   "outputs": [],
   "source": [
    "plaw = ju.build_power_law(freqs, alpha_field)"
   ]
  },
  {
   "cell_type": "markdown",
   "id": "5b3c2919-0eb8-4a30-8c2d-4d3a82c53155",
   "metadata": {},
   "source": [
    "## Deviations from Powerlaw"
   ]
  },
  {
   "cell_type": "code",
   "execution_count": null,
   "id": "a7d84dcc-2eff-49c8-8909-a565a39dbab4",
   "metadata": {},
   "outputs": [],
   "source": [
    "if RG_Energies:\n",
    "    dev_zm = {\"offset_mean\": 0., \"offset_std\": (1e-3, 1e-4)}\n",
    "    dev_fl = {\n",
    "        \"fluctuations\": (1e-1, 5e-3),\n",
    "        \"loglogavgslope\": (-1., 1e-2),\n",
    "        \"flexibility\": (1e-3, 5e-1),\n",
    "        \"asperity\": None,\n",
    "    }\n",
    "    dev_cfm = jft.CorrelatedFieldMaker(\"dev_cf\")\n",
    "    dev_cfm.set_amplitude_total_offset(**dev_zm)\n",
    "    dev_cfm.add_fluctuations(\n",
    "        e_dims,\n",
    "        distances=1. / e_dims,\n",
    "        **dev_fl,\n",
    "        prefix=\"ax1\",\n",
    "        non_parametric_kind=\"power\"\n",
    "    )\n",
    "    dev_cf = dev_cfm.finalize()\n",
    "    dev = ju.MappedModel(dev_cf, \"dev_cfxi\", s_dims, False)\n",
    "else:\n",
    "    wp = jft.WienerProcess((0), (1, 3), dfreqs, name=\"mapped_wp\", N_steps=e_dims-1)\n",
    "    dev = ju.MappedModel(wp, \"mapped_wp\", s_dims, False)"
   ]
  },
  {
   "cell_type": "markdown",
   "id": "ea8b8d3e-c69b-4e4a-8f23-be26c749a29a",
   "metadata": {},
   "source": [
    "# General Multifrequency Model"
   ]
  },
  {
   "cell_type": "code",
   "execution_count": null,
   "id": "04e9b68a-4013-4d5c-a204-945cd8d7d63a",
   "metadata": {},
   "outputs": [],
   "source": [
    "gen_mod = ju.GeneralModel({'spatial': correlated_field, 'freq_plaw': plaw, 'freq_dev':dev}).build_model()"
   ]
  },
  {
   "cell_type": "code",
   "execution_count": null,
   "id": "3983a79b-75ba-4808-8d04-a253980951a7",
   "metadata": {
    "scrolled": true
   },
   "outputs": [],
   "source": [
    "key, subkey = random.split(key)\n",
    "pos_init = jft.Vector(jft.random_like(subkey, gen_mod.domain))\n",
    "result = gen_mod(pos_init)"
   ]
  },
  {
   "cell_type": "markdown",
   "id": "c441b99c-f33d-46f8-8a1b-ad9cb9054550",
   "metadata": {},
   "source": [
    "# Plot $I(x, \\nu)$ for some $\\nu$ (Energy-slices)"
   ]
  },
  {
   "cell_type": "code",
   "execution_count": null,
   "id": "e8faaf2e-cf9e-4bdd-bff5-b0650998acde",
   "metadata": {},
   "outputs": [],
   "source": [
    "for j in range(12):\n",
    "    plt.imshow(result[j,:,:])\n",
    "    plt.colorbar()\n",
    "    plt.show()\n",
    "    plt.close()"
   ]
  },
  {
   "cell_type": "markdown",
   "id": "05074594-690f-4778-b75c-5a99b4680afc",
   "metadata": {},
   "source": [
    "# Plot  Plot $I(x, \\nu)$ for some $x$ (spatial-slices) "
   ]
  },
  {
   "cell_type": "code",
   "execution_count": null,
   "id": "bacf343d-8df7-4f00-ae98-cffab5060167",
   "metadata": {},
   "outputs": [],
   "source": [
    "for i in range(20):\n",
    "    plt.plot(freqs, result[:, i*5, i*5])\n",
    "plt.show()\n",
    "plt.close()"
   ]
  },
  {
   "cell_type": "markdown",
   "id": "f1dbf274-ce5e-4313-a1e9-308bb242d6f1",
   "metadata": {},
   "source": [
    "# Plot $I_0$"
   ]
  },
  {
   "cell_type": "code",
   "execution_count": null,
   "id": "70322e67-b3d6-4341-92ed-abdfa185d8c2",
   "metadata": {},
   "outputs": [],
   "source": [
    "plt.imshow(correlated_field(pos_init))\n",
    "plt.colorbar()"
   ]
  },
  {
   "cell_type": "markdown",
   "id": "0bb35b66-9a05-4a63-8ffd-e88fc004ccff",
   "metadata": {},
   "source": [
    "# Plot $\\alpha$"
   ]
  },
  {
   "cell_type": "code",
   "execution_count": null,
   "id": "e6dcf975-6b44-4e20-898c-9c74c3359573",
   "metadata": {},
   "outputs": [],
   "source": [
    "plt.imshow(alpha_field(pos_init))\n",
    "plt.colorbar()"
   ]
  },
  {
   "cell_type": "code",
   "execution_count": null,
   "id": "0d36e88d-a645-4a25-9244-c03f2dd64b7a",
   "metadata": {},
   "outputs": [],
   "source": []
  },
  {
   "cell_type": "code",
   "execution_count": null,
   "id": "d2c62ad5-d09b-47ce-a6f2-590b731436c8",
   "metadata": {},
   "outputs": [],
   "source": []
  }
 ],
 "metadata": {
  "kernelspec": {
   "display_name": "Python 3 (ipykernel)",
   "language": "python",
   "name": "python3"
  },
  "language_info": {
   "codemirror_mode": {
    "name": "ipython",
    "version": 3
   },
   "file_extension": ".py",
   "mimetype": "text/x-python",
   "name": "python",
   "nbconvert_exporter": "python",
   "pygments_lexer": "ipython3",
   "version": "3.10.12"
  }
 },
 "nbformat": 4,
 "nbformat_minor": 5
}
